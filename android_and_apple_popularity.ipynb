{
 "cells": [
  {
   "cell_type": "markdown",
   "metadata": {},
   "source": [
    "# App Popularity Analysis"
   ]
  },
  {
   "cell_type": "markdown",
   "metadata": {},
   "source": [
    "In this project, our primary goal is to identify profitable mobile app profiles within both the Apple App Store and Google Play markets. Playing the role of a data analyst for a company that designs and builds mobile applications for iOS and Android platforms, our responsibility is to empower our development team with data-driven decision-making capabilities regarding the types of applications they should be focusing on.\n",
    "\n",
    "Our organization develops free apps only. The principal revenue stream is derived from in-app advertisements. Therefore, the aim of this project is to analyze pertinent data to provide the business with a clearer understanding of what type of apps are more likely to draw in more users to see and interact with ads. This understanding will ultimately guide our development strategies and lead to more profitable applications."
   ]
  },
  {
   "cell_type": "markdown",
   "metadata": {},
   "source": [
    "### 1. Exploration"
   ]
  },
  {
   "cell_type": "code",
   "execution_count": 1,
   "metadata": {},
   "outputs": [],
   "source": [
    "from csv import reader\n",
    "\n",
    "# open and read Applie and Android app data from \n",
    "#https://dq-content.s3.amazonaws.com/350/googleplaystore.csv\n",
    "#and https://dq-content.s3.amazonaws.com/350/AppleStore.csv\n",
    "\n",
    "with open('AppleStore.csv') as f:\n",
    "    read_file = reader(f)\n",
    "    apple = list(read_file)\n",
    "    apple_header = apple[0]\n",
    "    apple = apple[1:]\n",
    "    \n",
    "with open('googleplaystore.csv') as f:\n",
    "    read_file = reader(f)\n",
    "    android = list(read_file)\n",
    "    android_header = android[0]\n",
    "    android = android[1:]"
   ]
  },
  {
   "cell_type": "code",
   "execution_count": 2,
   "metadata": {},
   "outputs": [],
   "source": [
    "# define data exploration function\n",
    "\n",
    "def explore_data(dataset, header, start, end, rows_and_columns=False):\n",
    "    dataset_slice = dataset[start:end]    \n",
    "    for row in dataset_slice:\n",
    "        print(row)\n",
    "        print('\\n') \n",
    "    \n",
    "    print(header)\n",
    "    print('\\n')\n",
    "    \n",
    "    if rows_and_columns:\n",
    "        print('Number of rows:', len(dataset))\n",
    "        print('Number of columns:', len(dataset[0]))"
   ]
  },
  {
   "cell_type": "code",
   "execution_count": 3,
   "metadata": {},
   "outputs": [
    {
     "name": "stdout",
     "output_type": "stream",
     "text": [
      "['284882215', 'Facebook', '389879808', 'USD', '0.0', '2974676', '212', '3.5', '3.5', '95.0', '4+', 'Social Networking', '37', '1', '29', '1']\n",
      "\n",
      "\n",
      "['389801252', 'Instagram', '113954816', 'USD', '0.0', '2161558', '1289', '4.5', '4.0', '10.23', '12+', 'Photo & Video', '37', '0', '29', '1']\n",
      "\n",
      "\n",
      "['529479190', 'Clash of Clans', '116476928', 'USD', '0.0', '2130805', '579', '4.5', '4.5', '9.24.12', '9+', 'Games', '38', '5', '18', '1']\n",
      "\n",
      "\n",
      "['id', 'track_name', 'size_bytes', 'currency', 'price', 'rating_count_tot', 'rating_count_ver', 'user_rating', 'user_rating_ver', 'ver', 'cont_rating', 'prime_genre', 'sup_devices.num', 'ipadSc_urls.num', 'lang.num', 'vpp_lic']\n",
      "\n",
      "\n",
      "Number of rows: 7197\n",
      "Number of columns: 16\n"
     ]
    }
   ],
   "source": [
    "# explore Apple data\n",
    "\n",
    "explore_data(apple, apple_header, 0, 3, True)"
   ]
  },
  {
   "cell_type": "code",
   "execution_count": 4,
   "metadata": {},
   "outputs": [
    {
     "name": "stdout",
     "output_type": "stream",
     "text": [
      "['Photo Editor & Candy Camera & Grid & ScrapBook', 'ART_AND_DESIGN', '4.1', '159', '19M', '10,000+', 'Free', '0', 'Everyone', 'Art & Design', 'January 7, 2018', '1.0.0', '4.0.3 and up']\n",
      "\n",
      "\n",
      "['Coloring book moana', 'ART_AND_DESIGN', '3.9', '967', '14M', '500,000+', 'Free', '0', 'Everyone', 'Art & Design;Pretend Play', 'January 15, 2018', '2.0.0', '4.0.3 and up']\n",
      "\n",
      "\n",
      "['U Launcher Lite – FREE Live Cool Themes, Hide Apps', 'ART_AND_DESIGN', '4.7', '87510', '8.7M', '5,000,000+', 'Free', '0', 'Everyone', 'Art & Design', 'August 1, 2018', '1.2.4', '4.0.3 and up']\n",
      "\n",
      "\n",
      "['App', 'Category', 'Rating', 'Reviews', 'Size', 'Installs', 'Type', 'Price', 'Content Rating', 'Genres', 'Last Updated', 'Current Ver', 'Android Ver']\n",
      "\n",
      "\n",
      "Number of rows: 10841\n",
      "Number of columns: 13\n"
     ]
    }
   ],
   "source": [
    "# explore Android data\n",
    "\n",
    "explore_data(android, android_header, 0, 3, True)"
   ]
  },
  {
   "cell_type": "markdown",
   "metadata": {},
   "source": [
    "## 2. Cleaning"
   ]
  },
  {
   "cell_type": "markdown",
   "metadata": {},
   "source": [
    "First, check for apps with missings values and delete those records"
   ]
  },
  {
   "cell_type": "code",
   "execution_count": 5,
   "metadata": {},
   "outputs": [],
   "source": [
    "def delete_missing_data(dataset, header, dataset_name):\n",
    "    # delete rows with missing values  \n",
    "    indices_to_delete = []\n",
    "    \n",
    "    dataset_clean = dataset.copy()\n",
    "    \n",
    "    for row in dataset_clean:\n",
    "        if len(row) != len(header):\n",
    "            indices_to_delete.append(dataset_clean.index(row))\n",
    "    \n",
    "    for index in sorted(indices_to_delete, reverse=True):\n",
    "        del dataset_clean[index]\n",
    "        \n",
    "    print(f'Number of records in dataset {dataset_name}: {len(dataset)}')    \n",
    "    print(f'Number of records in clean dataset (without missing values): {len(dataset_clean)}')\n",
    "    \n",
    "    return dataset_clean"
   ]
  },
  {
   "cell_type": "markdown",
   "metadata": {},
   "source": [
    "Next, check for duplicate app records and keep only the record with the highest number of ratings"
   ]
  },
  {
   "cell_type": "markdown",
   "metadata": {},
   "source": [
    "#### Check for duplicated records"
   ]
  },
  {
   "cell_type": "code",
   "execution_count": 6,
   "metadata": {},
   "outputs": [
    {
     "name": "stdout",
     "output_type": "stream",
     "text": [
      "Number of Anroid unique apps: 9660\n",
      "Number of Anroid duplicate apps: 1181\n",
      "Number of Apple unique apps: 7197\n",
      "Number of Apple duplicate apps: 0\n"
     ]
    }
   ],
   "source": [
    "# check for duplicate records in each dataset\n",
    "\n",
    "# create empty lists for unique and duplicate app records\n",
    "# android\n",
    "app_list = []\n",
    "dup_app_list = []\n",
    "\n",
    "for row in android:\n",
    "    name = row[0]\n",
    "\n",
    "    if name in app_list:\n",
    "        dup_app_list.append(name)\n",
    "    else:\n",
    "        app_list.append(name)\n",
    "    \n",
    "print(f'Number of Anroid unique apps: {len(app_list)}')\n",
    "print(f'Number of Anroid duplicate apps: {len(dup_app_list)}')\n",
    "\n",
    "# apple\n",
    "app_list = []\n",
    "dup_app_list = []\n",
    "\n",
    "for row in apple:\n",
    "    name = row[0]\n",
    "    \n",
    "    if name in app_list:\n",
    "        dup_app_list.append(name)\n",
    "    else:\n",
    "        app_list.append(name)\n",
    "\n",
    "print(f'Number of Apple unique apps: {len(app_list)}')\n",
    "print(f'Number of Apple duplicate apps: {len(dup_app_list)}')\n"
   ]
  },
  {
   "cell_type": "markdown",
   "metadata": {},
   "source": [
    "#### This function will return a dictionary with only unique app reviews"
   ]
  },
  {
   "cell_type": "code",
   "execution_count": 7,
   "metadata": {},
   "outputs": [],
   "source": [
    "def remove_dup_records(dataset, dataset_name):\n",
    "    # since apple has no duplicates, we will not modify this dataset\n",
    "    if dataset_name == 'apple':\n",
    "        return dataset\n",
    "    \n",
    "    else:\n",
    "        # create empty dict for holding max rating per app name\n",
    "        reviews_max = {}\n",
    "\n",
    "        # store max number of reviews per app name in dict\n",
    "        for row in dataset:\n",
    "            name = row[0]\n",
    "            n_reviews = float(row[3])\n",
    "\n",
    "            if name in reviews_max and reviews_max[name] < n_reviews:\n",
    "                reviews_max[name] = n_reviews\n",
    "            elif name not in reviews_max:\n",
    "                reviews_max[name] = n_reviews\n",
    "            else:\n",
    "                pass\n",
    "\n",
    "        # create empty lists to hold rows for clean dataset and names of reviews already added\n",
    "        dataset_clean = []\n",
    "        already_added = []\n",
    "        \n",
    "        for row in dataset:\n",
    "            name = row[0]\n",
    "            n_reviews = float(row[3])\n",
    "            \n",
    "            if name in reviews_max and name not in already_added:\n",
    "                dataset_clean.append(row)\n",
    "                already_added.append(name)\n",
    "            \n",
    "\n",
    "        print(f'Number of duplicate records deleted {dataset_name}: {len(dataset) - len(dataset_clean)}')\n",
    "        print(f'Number of records in clean dataset (unique) {dataset_name}: {len(dataset_clean)}')\n",
    "        \n",
    "        return dataset_clean"
   ]
  },
  {
   "cell_type": "markdown",
   "metadata": {},
   "source": [
    "After removing duplicates, remove non-English app reviews"
   ]
  },
  {
   "cell_type": "markdown",
   "metadata": {},
   "source": [
    "#### Define function to check if the name of an app is in English"
   ]
  },
  {
   "cell_type": "code",
   "execution_count": 8,
   "metadata": {},
   "outputs": [],
   "source": [
    "def check_language(string):\n",
    "    # initialize counter\n",
    "    count = 0\n",
    "    \n",
    "    # count number of non-English characters\n",
    "    for char in string:\n",
    "        # 127 is max number for English text per ASCII\n",
    "        if ord(char) > 127:\n",
    "            count += 1\n",
    "            \n",
    "    #if there are at least 3 non-English characters, set to False      \n",
    "    if count > 3:\n",
    "        return False\n",
    "    else:\n",
    "        return True       \n",
    "            "
   ]
  },
  {
   "cell_type": "markdown",
   "metadata": {},
   "source": [
    "#### Define function to filter dataset to only English apps"
   ]
  },
  {
   "cell_type": "code",
   "execution_count": 9,
   "metadata": {},
   "outputs": [],
   "source": [
    "def filter_language(dataset, dataset_name):\n",
    "    # create empty list to hold only English apps\n",
    "    dataset_clean = []\n",
    "    \n",
    "    # loop through each app in android, if app is English add to cleaned dataset list\n",
    "    if dataset_name == 'android':\n",
    "        for row in dataset:\n",
    "            name = row[0]\n",
    "            check = check_language(name)\n",
    "            if check:\n",
    "                dataset_clean.append(row)\n",
    "            else:\n",
    "                pass\n",
    "            \n",
    "    # loop through each app in apple, if app is English add to cleaned dataset list\n",
    "    elif dataset_name == 'apple':\n",
    "        for row in dataset:\n",
    "            name = row[1]\n",
    "            check = check_language(name)\n",
    "            if check:\n",
    "                dataset_clean.append(row)\n",
    "            else:\n",
    "                pass\n",
    "        \n",
    "    print(f'Number of non-English records deleted {dataset_name}: {len(dataset) - len(dataset_clean)}')\n",
    "    print(f'Number of records in clean dataset (English) {dataset_name}: {len(dataset_clean)}')   \n",
    "    \n",
    "    return dataset_clean"
   ]
  },
  {
   "cell_type": "markdown",
   "metadata": {},
   "source": [
    "Finally, after removing non-English apps, remove non-free apps"
   ]
  },
  {
   "cell_type": "markdown",
   "metadata": {},
   "source": [
    "#### Define Function to filter only free apps"
   ]
  },
  {
   "cell_type": "code",
   "execution_count": 10,
   "metadata": {},
   "outputs": [],
   "source": [
    "def filter_free(dataset, dataset_name):\n",
    "    # create empty list to hold only free apps\n",
    "    dataset_clean = []\n",
    "    \n",
    "    # loop through each app in android, if app is free add to cleaned dataset list\n",
    "    if dataset_name == 'android':\n",
    "        for row in dataset:\n",
    "            price = row[7]\n",
    "            if price == '0':\n",
    "                dataset_clean.append(row)\n",
    "                \n",
    "    # loop through each app in apple, if app is free add to cleaned dataset list         \n",
    "    if dataset_name == 'apple':\n",
    "        for row in dataset:\n",
    "            price = row[4]\n",
    "            if price == '0.0':\n",
    "                dataset_clean.append(row)\n",
    "                \n",
    "                \n",
    "    print(f'Number of non-free records deleted {dataset_name}: {len(dataset) - len(dataset_clean)}')\n",
    "    print(f'Number of records in clean dataset (free) {dataset_name}: {len(dataset_clean)}')   \n",
    "    \n",
    "    return dataset_clean"
   ]
  },
  {
   "cell_type": "markdown",
   "metadata": {},
   "source": [
    "### Combine all cleaning steps in one cleaning function and call the function on the raw datasets"
   ]
  },
  {
   "cell_type": "code",
   "execution_count": 11,
   "metadata": {},
   "outputs": [
    {
     "name": "stdout",
     "output_type": "stream",
     "text": [
      "Number of records in dataset android: 10841\n",
      "Number of records in clean dataset (without missing values): 10840\n",
      "Number of duplicate records deleted android: 1181\n",
      "Number of records in clean dataset (unique) android: 9659\n",
      "Number of non-English records deleted android: 45\n",
      "Number of records in clean dataset (English) android: 9614\n",
      "Number of non-free records deleted android: 752\n",
      "Number of records in clean dataset (free) android: 8862\n",
      "Number of records in dataset apple: 7197\n",
      "Number of records in clean dataset (without missing values): 7197\n",
      "Number of non-English records deleted apple: 1014\n",
      "Number of records in clean dataset (English) apple: 6183\n",
      "Number of non-free records deleted apple: 2961\n",
      "Number of records in clean dataset (free) apple: 3222\n"
     ]
    }
   ],
   "source": [
    "def all_cleaning(dataset, header, dataset_name):\n",
    "    dataset = delete_missing_data(dataset, header, dataset_name)\n",
    "    dataset = remove_dup_records(dataset, dataset_name)\n",
    "    dataset = filter_language(dataset, dataset_name)\n",
    "    dataset = filter_free(dataset, dataset_name)\n",
    "    return dataset\n",
    "\n",
    "android = all_cleaning(android, android_header, 'android')\n",
    "apple = all_cleaning(apple, apple_header, 'apple')"
   ]
  },
  {
   "cell_type": "markdown",
   "metadata": {},
   "source": [
    "## 3. Analysis"
   ]
  },
  {
   "cell_type": "markdown",
   "metadata": {},
   "source": [
    "As mentioned, the goal is to determine the types of apps which are likely to attract more users, and therefore generate more revenue from in-app advertisements.\n",
    "\n",
    "To minimize risks and overhead, the validation strategy for an app idea is comprised of three steps:\n",
    "\n",
    "1. Build a minimal Android version of the app, and add it to Google Play.\n",
    "2. If the app has a good response from users, we develop it further.\n",
    "3. If the app is profitable after six months, we build an iOS version of the app and add it to the App Store.\n",
    "\n",
    "Because our end goal is to add the app on both Google Play and the App Store, we need to find app profiles that are successful on both markets."
   ]
  },
  {
   "cell_type": "markdown",
   "metadata": {},
   "source": [
    "The first step will be to identify the most common genres for each market."
   ]
  },
  {
   "cell_type": "markdown",
   "metadata": {},
   "source": [
    "#### Identify columns of interest and indexes - Category and Genres for Android, prime_genre for Apple"
   ]
  },
  {
   "cell_type": "code",
   "execution_count": 13,
   "metadata": {},
   "outputs": [
    {
     "name": "stdout",
     "output_type": "stream",
     "text": [
      "['App', 'Category', 'Rating', 'Reviews', 'Size', 'Installs', 'Type', 'Price', 'Content Rating', 'Genres', 'Last Updated', 'Current Ver', 'Android Ver']\n",
      "\n",
      "\n",
      "['id', 'track_name', 'size_bytes', 'currency', 'price', 'rating_count_tot', 'rating_count_ver', 'user_rating', 'user_rating_ver', 'ver', 'cont_rating', 'prime_genre', 'sup_devices.num', 'ipadSc_urls.num', 'lang.num', 'vpp_lic']\n"
     ]
    }
   ],
   "source": [
    "print(android_header)\n",
    "print('\\n')\n",
    "print(apple_header)"
   ]
  },
  {
   "cell_type": "markdown",
   "metadata": {},
   "source": [
    "#### Define function to create freq tables"
   ]
  },
  {
   "cell_type": "code",
   "execution_count": 14,
   "metadata": {},
   "outputs": [],
   "source": [
    "def freq_table(dataset, index):\n",
    "    # create empty dict to hold freqs\n",
    "    freqs = {}\n",
    "    \n",
    "    # loop through apps and populate dictionary with freqs\n",
    "    for row in dataset:\n",
    "        if row[index] in freqs:\n",
    "            freqs[row[index]] += 1\n",
    "        else:\n",
    "            freqs[row[index]] = 1\n",
    "            \n",
    "    for key in freqs:\n",
    "        freqs[key] = round(freqs[key] / len(dataset), 2)\n",
    "    \n",
    "    return freqs"
   ]
  },
  {
   "cell_type": "markdown",
   "metadata": {},
   "source": [
    "#### Define function to display sorted freq tables"
   ]
  },
  {
   "cell_type": "code",
   "execution_count": 15,
   "metadata": {},
   "outputs": [],
   "source": [
    "def display_table(dataset, index):\n",
    "    \n",
    "    #call freq_table() function\n",
    "    table = freq_table(dataset, index)\n",
    "    \n",
    "    # create empty list to display table\n",
    "    table_display = []\n",
    "    \n",
    "    # add tuple of key val pairs to display table\n",
    "    for key in table:\n",
    "        key_val_as_tuple = (table[key], key)\n",
    "        table_display.append(key_val_as_tuple)\n",
    "    \n",
    "    # sort the display table from highest to lowest freqs\n",
    "    table_sorted = sorted(table_display, reverse = True)\n",
    "    \n",
    "    #print the keys and freqs from the sorted display table\n",
    "    for entry in table_sorted:\n",
    "        print(entry[1], ':', entry[0])"
   ]
  },
  {
   "cell_type": "markdown",
   "metadata": {},
   "source": [
    "What are the most common app genres/categories? "
   ]
  },
  {
   "cell_type": "code",
   "execution_count": 16,
   "metadata": {},
   "outputs": [
    {
     "name": "stdout",
     "output_type": "stream",
     "text": [
      "Games : 0.58\n",
      "Entertainment : 0.08\n",
      "Photo & Video : 0.05\n",
      "Education : 0.04\n",
      "Utilities : 0.03\n",
      "Social Networking : 0.03\n",
      "Shopping : 0.03\n",
      "Sports : 0.02\n",
      "Productivity : 0.02\n",
      "Music : 0.02\n",
      "Lifestyle : 0.02\n",
      "Health & Fitness : 0.02\n",
      "Weather : 0.01\n",
      "Travel : 0.01\n",
      "Reference : 0.01\n",
      "News : 0.01\n",
      "Food & Drink : 0.01\n",
      "Finance : 0.01\n",
      "Business : 0.01\n",
      "Navigation : 0.0\n",
      "Medical : 0.0\n",
      "Catalogs : 0.0\n",
      "Book : 0.0\n"
     ]
    }
   ],
   "source": [
    "display_table(apple, 11)"
   ]
  },
  {
   "cell_type": "markdown",
   "metadata": {},
   "source": [
    "Looking at the Apple App Store apps, it's obvious that games dominate the market. After a significant gap, Entertainment ranks as the second most common genre, and Photo and Video ranks third just behind Entertainment."
   ]
  },
  {
   "cell_type": "code",
   "execution_count": 17,
   "metadata": {},
   "outputs": [
    {
     "name": "stdout",
     "output_type": "stream",
     "text": [
      "FAMILY : 0.18\n",
      "GAME : 0.1\n",
      "TOOLS : 0.08\n",
      "BUSINESS : 0.05\n",
      "PRODUCTIVITY : 0.04\n",
      "MEDICAL : 0.04\n",
      "LIFESTYLE : 0.04\n",
      "FINANCE : 0.04\n",
      "SPORTS : 0.03\n",
      "SOCIAL : 0.03\n",
      "PHOTOGRAPHY : 0.03\n",
      "PERSONALIZATION : 0.03\n",
      "NEWS_AND_MAGAZINES : 0.03\n",
      "HEALTH_AND_FITNESS : 0.03\n",
      "COMMUNICATION : 0.03\n",
      "VIDEO_PLAYERS : 0.02\n",
      "TRAVEL_AND_LOCAL : 0.02\n",
      "SHOPPING : 0.02\n",
      "DATING : 0.02\n",
      "BOOKS_AND_REFERENCE : 0.02\n",
      "WEATHER : 0.01\n",
      "PARENTING : 0.01\n",
      "MAPS_AND_NAVIGATION : 0.01\n",
      "LIBRARIES_AND_DEMO : 0.01\n",
      "HOUSE_AND_HOME : 0.01\n",
      "FOOD_AND_DRINK : 0.01\n",
      "EVENTS : 0.01\n",
      "ENTERTAINMENT : 0.01\n",
      "EDUCATION : 0.01\n",
      "COMICS : 0.01\n",
      "BEAUTY : 0.01\n",
      "AUTO_AND_VEHICLES : 0.01\n",
      "ART_AND_DESIGN : 0.01\n"
     ]
    }
   ],
   "source": [
    "display_table(android, 1)"
   ]
  },
  {
   "cell_type": "code",
   "execution_count": 18,
   "metadata": {},
   "outputs": [
    {
     "name": "stdout",
     "output_type": "stream",
     "text": [
      "Tools : 0.08\n",
      "Entertainment : 0.06\n",
      "Education : 0.05\n",
      "Business : 0.05\n",
      "Productivity : 0.04\n",
      "Medical : 0.04\n",
      "Lifestyle : 0.04\n",
      "Finance : 0.04\n",
      "Sports : 0.03\n",
      "Social : 0.03\n",
      "Photography : 0.03\n",
      "Personalization : 0.03\n",
      "News & Magazines : 0.03\n",
      "Health & Fitness : 0.03\n",
      "Communication : 0.03\n",
      "Action : 0.03\n",
      "Video Players & Editors : 0.02\n",
      "Travel & Local : 0.02\n",
      "Simulation : 0.02\n",
      "Shopping : 0.02\n",
      "Dating : 0.02\n",
      "Casual : 0.02\n",
      "Books & Reference : 0.02\n",
      "Arcade : 0.02\n",
      "Weather : 0.01\n",
      "Strategy : 0.01\n",
      "Role Playing : 0.01\n",
      "Racing : 0.01\n",
      "Puzzle : 0.01\n",
      "Maps & Navigation : 0.01\n",
      "Libraries & Demo : 0.01\n",
      "House & Home : 0.01\n",
      "Food & Drink : 0.01\n",
      "Events : 0.01\n",
      "Comics : 0.01\n",
      "Beauty : 0.01\n",
      "Auto & Vehicles : 0.01\n",
      "Art & Design : 0.01\n",
      "Adventure : 0.01\n",
      "Word : 0.0\n",
      "Video Players & Editors;Music & Video : 0.0\n",
      "Video Players & Editors;Creativity : 0.0\n",
      "Trivia;Education : 0.0\n",
      "Trivia : 0.0\n",
      "Travel & Local;Action & Adventure : 0.0\n",
      "Tools;Education : 0.0\n",
      "Strategy;Education : 0.0\n",
      "Strategy;Creativity : 0.0\n",
      "Strategy;Action & Adventure : 0.0\n",
      "Sports;Action & Adventure : 0.0\n",
      "Simulation;Pretend Play : 0.0\n",
      "Simulation;Education : 0.0\n",
      "Simulation;Action & Adventure : 0.0\n",
      "Role Playing;Pretend Play : 0.0\n",
      "Role Playing;Brain Games : 0.0\n",
      "Role Playing;Action & Adventure : 0.0\n",
      "Racing;Pretend Play : 0.0\n",
      "Racing;Action & Adventure : 0.0\n",
      "Puzzle;Education : 0.0\n",
      "Puzzle;Creativity : 0.0\n",
      "Puzzle;Brain Games : 0.0\n",
      "Puzzle;Action & Adventure : 0.0\n",
      "Parenting;Music & Video : 0.0\n",
      "Parenting;Education : 0.0\n",
      "Parenting;Brain Games : 0.0\n",
      "Parenting : 0.0\n",
      "Music;Music & Video : 0.0\n",
      "Music & Audio;Music & Video : 0.0\n",
      "Music : 0.0\n",
      "Lifestyle;Pretend Play : 0.0\n",
      "Lifestyle;Education : 0.0\n",
      "Health & Fitness;Education : 0.0\n",
      "Health & Fitness;Action & Adventure : 0.0\n",
      "Entertainment;Pretend Play : 0.0\n",
      "Entertainment;Music & Video : 0.0\n",
      "Entertainment;Education : 0.0\n",
      "Entertainment;Creativity : 0.0\n",
      "Entertainment;Brain Games : 0.0\n",
      "Entertainment;Action & Adventure : 0.0\n",
      "Educational;Pretend Play : 0.0\n",
      "Educational;Education : 0.0\n",
      "Educational;Creativity : 0.0\n",
      "Educational;Brain Games : 0.0\n",
      "Educational;Action & Adventure : 0.0\n",
      "Educational : 0.0\n",
      "Education;Pretend Play : 0.0\n",
      "Education;Music & Video : 0.0\n",
      "Education;Education : 0.0\n",
      "Education;Creativity : 0.0\n",
      "Education;Brain Games : 0.0\n",
      "Education;Action & Adventure : 0.0\n",
      "Communication;Creativity : 0.0\n",
      "Comics;Creativity : 0.0\n",
      "Casual;Pretend Play : 0.0\n",
      "Casual;Music & Video : 0.0\n",
      "Casual;Education : 0.0\n",
      "Casual;Creativity : 0.0\n",
      "Casual;Brain Games : 0.0\n",
      "Casual;Action & Adventure : 0.0\n",
      "Casino : 0.0\n",
      "Card;Action & Adventure : 0.0\n",
      "Card : 0.0\n",
      "Books & Reference;Education : 0.0\n",
      "Board;Brain Games : 0.0\n",
      "Board;Action & Adventure : 0.0\n",
      "Board : 0.0\n",
      "Art & Design;Pretend Play : 0.0\n",
      "Art & Design;Creativity : 0.0\n",
      "Art & Design;Action & Adventure : 0.0\n",
      "Arcade;Pretend Play : 0.0\n",
      "Arcade;Action & Adventure : 0.0\n",
      "Adventure;Education : 0.0\n",
      "Adventure;Action & Adventure : 0.0\n",
      "Action;Action & Adventure : 0.0\n"
     ]
    }
   ],
   "source": [
    "display_table(android, 9)"
   ]
  },
  {
   "cell_type": "markdown",
   "metadata": {},
   "source": [
    "Looking at Android Apps, Family, Games, Entertainment, and Tools app categories/genres are most popular. However, the most popular categories/genres do not lead by a large margin. In general, it appears there is a balance between entertainment and productivity apps."
   ]
  },
  {
   "cell_type": "markdown",
   "metadata": {},
   "source": [
    "Next, we'll look at popularity of the individual apps within the genres."
   ]
  },
  {
   "cell_type": "code",
   "execution_count": 19,
   "metadata": {},
   "outputs": [
    {
     "data": {
      "text/plain": [
       "[('Navigation', 86090),\n",
       " ('Reference', 74942),\n",
       " ('Social Networking', 71548),\n",
       " ('Music', 57326),\n",
       " ('Weather', 52279),\n",
       " ('Book', 39758),\n",
       " ('Food & Drink', 33333),\n",
       " ('Finance', 31467),\n",
       " ('Photo & Video', 28441),\n",
       " ('Travel', 28243),\n",
       " ('Shopping', 26919),\n",
       " ('Health & Fitness', 23298),\n",
       " ('Sports', 23008),\n",
       " ('Games', 22788),\n",
       " ('News', 21248),\n",
       " ('Productivity', 21028),\n",
       " ('Utilities', 18684),\n",
       " ('Lifestyle', 16485),\n",
       " ('Entertainment', 14029),\n",
       " ('Business', 7491),\n",
       " ('Education', 7003),\n",
       " ('Catalogs', 4004),\n",
       " ('Medical', 612)]"
      ]
     },
     "execution_count": 19,
     "metadata": {},
     "output_type": "execute_result"
    }
   ],
   "source": [
    "apple_freq_table = freq_table(apple, 11)\n",
    "\n",
    "apple_app_popularity = []\n",
    "\n",
    "for genre in apple_freq_table:\n",
    "    total = 0\n",
    "    len_genre = 0\n",
    "    for row in apple:\n",
    "        genre_app = row[11]\n",
    "        if genre_app == genre:\n",
    "            rating_count = float(row[5])\n",
    "            total += rating_count\n",
    "            len_genre += 1\n",
    "    average_ratings = int(total / len_genre)\n",
    "    apple_app_popularity.append((genre, average_ratings))\n",
    "\n",
    "sorted(apple_app_popularity, key = lambda x: x[1], reverse = True)"
   ]
  },
  {
   "cell_type": "markdown",
   "metadata": {},
   "source": [
    "We can now see the most popular app genres by total number of user reviews for apps in that genre. This doesn't tell the full story, however. There are likely a few specific apps in the Navigation and Social Networking genres, and it may not make sense to attempt to build a similar app. "
   ]
  },
  {
   "cell_type": "code",
   "execution_count": 20,
   "metadata": {},
   "outputs": [
    {
     "name": "stdout",
     "output_type": "stream",
     "text": [
      "{'Waze - GPS Navigation, Maps & Real-time Traffic': 345046.0, 'Google Maps - Navigation & Transit': 154911.0, 'Geocaching®': 12811.0, 'CoPilot GPS – Car Navigation & Offline Maps': 3582.0, 'ImmobilienScout24: Real Estate Search in Germany': 187.0, 'Railway Route Search': 5.0}\n",
      "\n",
      "\n",
      "{'Facebook': 2974676.0, 'Pinterest': 1061624.0, 'Skype for iPhone': 373519.0, 'Messenger': 351466.0, 'Tumblr': 334293.0, 'WhatsApp Messenger': 287589.0, 'Kik': 260965.0, 'ooVoo – Free Video Call, Text and Voice': 177501.0, 'TextNow - Unlimited Text + Calls': 164963.0, 'Viber Messenger – Text & Call': 164249.0, 'Followers - Social Analytics For Instagram': 112778.0, 'MeetMe - Chat and Meet New People': 97072.0, 'We Heart It - Fashion, wallpapers, quotes, tattoos': 90414.0, 'InsTrack for Instagram - Analytics Plus More': 85535.0, 'Tango - Free Video Call, Voice and Chat': 75412.0, 'LinkedIn': 71856.0, 'Match™ - #1 Dating App.': 60659.0, 'Skype for iPad': 60163.0, 'POF - Best Dating App for Conversations': 52642.0, 'Timehop': 49510.0, 'Find My Family, Friends & iPhone - Life360 Locator': 43877.0, 'Whisper - Share, Express, Meet': 39819.0, 'Hangouts': 36404.0, 'LINE PLAY - Your Avatar World': 34677.0, 'WeChat': 34584.0, 'Badoo - Meet New People, Chat, Socialize.': 34428.0, 'Followers + for Instagram - Follower Analytics': 28633.0, 'GroupMe': 28260.0, 'Marco Polo Video Walkie Talkie': 27662.0, 'Miitomo': 23965.0, 'SimSimi': 23530.0, 'Grindr - Gay and same sex guys chat, meet and date': 23201.0, 'Wishbone - Compare Anything': 20649.0, 'imo video calls and chat': 18841.0, 'After School - Funny Anonymous School News': 18482.0, 'Quick Reposter - Repost, Regram and Reshare Photos': 17694.0, 'Weibo HD': 16772.0, 'Repost for Instagram': 15185.0, 'Live.me – Live Video Chat & Make Friends Nearby': 14724.0, 'Nextdoor': 14402.0, 'Followers Analytics for Instagram - InstaReport': 13914.0, 'YouNow: Live Stream Video Chat': 12079.0, 'FollowMeter for Instagram - Followers Tracking': 11976.0, 'LINE': 11437.0, 'eHarmony™ Dating App - Meet Singles': 11124.0, 'Discord - Chat for Gamers': 9152.0, 'QQ': 9109.0, 'Telegram Messenger': 7573.0, 'Weibo': 7265.0, 'Periscope - Live Video Streaming Around the World': 6062.0, 'Chat for Whatsapp - iPad Version': 5060.0, 'QQ HD': 5058.0, 'Followers Analysis Tool For Instagram App Free': 4253.0, 'live.ly - live video streaming': 4145.0, 'Houseparty - Group Video Chat': 3991.0, 'SOMA Messenger': 3232.0, 'Monkey': 3060.0, 'Down To Lunch': 2535.0, 'Flinch - Video Chat Staring Contest': 2134.0, 'Highrise - Your Avatar Community': 2011.0, 'LOVOO - Dating Chat': 1985.0, 'PlayStation®Messages': 1918.0, 'BOO! - Video chat camera with filters & stickers': 1805.0, 'Qzone': 1649.0, 'Chatous - Chat with new people': 1609.0, 'Kiwi - Q&A': 1538.0, 'GhostCodes - a discovery app for Snapchat': 1313.0, 'Jodel': 1193.0, 'FireChat': 1037.0, 'Google Duo - simple video calling': 1033.0, 'Fiesta by Tango - Chat & Meet New People': 885.0, 'Google Allo — smart messaging': 862.0, 'Peach — share vividly': 727.0, 'Hey! VINA - Where Women Meet New Friends': 719.0, 'Battlefield™ Companion': 689.0, 'All Devices for WhatsApp - Messenger for iPad': 682.0, 'Chat for Pokemon Go - GoChat': 500.0, 'IAmNaughty – Dating App to Meet New People Online': 463.0, 'Qzone HD': 458.0, 'Zenly - Locate your friends in realtime': 427.0, 'League of Legends Friends': 420.0, '豆瓣': 407.0, 'Candid - Speak Your Mind Freely': 398.0, '知乎': 397.0, 'Selfeo': 366.0, 'Fake-A-Location Free ™': 354.0, 'Popcorn Buzz - Free Group Calls': 281.0, 'Fam — Group video calling for iMessage': 279.0, 'QQ International': 274.0, 'Ameba': 269.0, 'SoundCloud Pulse: for creators': 240.0, 'Tantan': 235.0, 'Cougar Dating & Life Style App for Mature Women': 213.0, 'Rawr Messenger - Dab your chat': 180.0, 'WhenToPost: Best Time to Post Photos for Instagram': 158.0, 'Inke—Broadcast an amazing life': 147.0, 'Mustknow - anonymous video Q&A': 53.0, 'CTFxCmoji': 39.0, 'Lobi': 36.0, 'Chain: Collaborate On MyVideo Story/Group Video': 35.0, 'botman - Real time video chat': 7.0, 'BestieBox': 0.0, 'MATCH ON LINE chat': 0.0, 'niconico ch': 0.0, 'LINE BLOG': 0.0, 'bit-tube - Live Stream Video Chat': 0.0}\n",
      "\n",
      "\n",
      "{'Bible': 985920.0, 'Dictionary.com Dictionary & Thesaurus': 200047.0, 'Dictionary.com Dictionary & Thesaurus for iPad': 54175.0, 'Google Translate': 26786.0, 'Muslim Pro: Ramadan 2017 Prayer Times, Azan, Quran': 18418.0, 'New Furniture Mods - Pocket Wiki & Game Tools for Minecraft PC Edition': 17588.0, 'Merriam-Webster Dictionary': 16849.0, 'Night Sky': 12122.0, 'City Maps for Minecraft PE - The Best Maps for Minecraft Pocket Edition (MCPE)': 8535.0, 'LUCKY BLOCK MOD ™ for Minecraft PC Edition - The Best Pocket Wiki & Mods Installer Tools': 4693.0, 'GUNS MODS for Minecraft PC Edition - Mods Tools': 1497.0, 'Guides for Pokémon GO - Pokemon GO News and Cheats': 826.0, 'WWDC': 762.0, 'Horror Maps for Minecraft PE - Download The Scariest Maps for Minecraft Pocket Edition (MCPE) Free': 718.0, 'VPN Express': 14.0, 'Real Bike Traffic Rider Virtual Reality Glasses': 8.0, '教えて!goo': 0.0, 'Jishokun-Japanese English Dictionary & Translator': 0.0}\n"
     ]
    }
   ],
   "source": [
    "nav_dict = {}\n",
    "\n",
    "for row in apple:\n",
    "    if row[11] == 'Navigation':\n",
    "        nav_dict[row[1]] = float(row[5])\n",
    "        \n",
    "social_network_dict = {}\n",
    "\n",
    "for row in apple:\n",
    "    if row[11] == 'Social Networking':\n",
    "        social_network_dict[row[1]] = float(row[5])\n",
    "    \n",
    "reference_dict = {}\n",
    "\n",
    "for row in apple:\n",
    "    if row[11] == 'Reference':\n",
    "        reference_dict[row[1]] = float(row[5])    \n",
    "\n",
    "    \n",
    "print(nav_dict)\n",
    "print('\\n')\n",
    "print(social_network_dict)\n",
    "print('\\n')\n",
    "print(reference_dict)"
   ]
  },
  {
   "cell_type": "markdown",
   "metadata": {},
   "source": [
    "The Navigation genre would not make sense and already has its market leaders clearly established. The Social Networking genre is also dominated by a few apps, but there are some niche audiences and perhaps this is a viable option. The Reference genre also has some room for apps designed for niche audiences."
   ]
  },
  {
   "cell_type": "markdown",
   "metadata": {},
   "source": [
    "Finally, looking at the most common app genres for android apps."
   ]
  },
  {
   "cell_type": "code",
   "execution_count": 21,
   "metadata": {},
   "outputs": [
    {
     "data": {
      "text/plain": [
       "[('COMMUNICATION', 38456119),\n",
       " ('VIDEO_PLAYERS', 24852732),\n",
       " ('SOCIAL', 23253652),\n",
       " ('ENTERTAINMENT', 21134600),\n",
       " ('PHOTOGRAPHY', 17805627),\n",
       " ('PRODUCTIVITY', 16787331),\n",
       " ('GAME', 15837565),\n",
       " ('TRAVEL_AND_LOCAL', 13984077),\n",
       " ('TOOLS', 10695245),\n",
       " ('NEWS_AND_MAGAZINES', 9549178),\n",
       " ('BOOKS_AND_REFERENCE', 8767811),\n",
       " ('SHOPPING', 7036877),\n",
       " ('PERSONALIZATION', 5201482),\n",
       " ('WEATHER', 5074486),\n",
       " ('HEALTH_AND_FITNESS', 4188821),\n",
       " ('MAPS_AND_NAVIGATION', 4056941),\n",
       " ('SPORTS', 3638640),\n",
       " ('EDUCATION', 3082017),\n",
       " ('FAMILY', 2691618),\n",
       " ('FOOD_AND_DRINK', 1924897),\n",
       " ('ART_AND_DESIGN', 1905351),\n",
       " ('BUSINESS', 1712290),\n",
       " ('LIFESTYLE', 1437816),\n",
       " ('FINANCE', 1387692),\n",
       " ('HOUSE_AND_HOME', 1313681),\n",
       " ('DATING', 854028),\n",
       " ('COMICS', 817657),\n",
       " ('AUTO_AND_VEHICLES', 647317),\n",
       " ('LIBRARIES_AND_DEMO', 638503),\n",
       " ('PARENTING', 542603),\n",
       " ('BEAUTY', 513151),\n",
       " ('EVENTS', 253542),\n",
       " ('MEDICAL', 120616)]"
      ]
     },
     "execution_count": 21,
     "metadata": {},
     "output_type": "execute_result"
    }
   ],
   "source": [
    "android_freq_table = freq_table(android, 1)\n",
    "\n",
    "android_app_popularity = []\n",
    "\n",
    "for category in android_freq_table:\n",
    "    total = 0\n",
    "    len_category = 0\n",
    "    for row in android:\n",
    "        category_app = row[1]\n",
    "        if category_app == category:\n",
    "            installs = float(row[5].replace('+', '').replace(',',''))\n",
    "            total += installs\n",
    "            len_category += 1\n",
    "    avg_install = int(total / len_category)\n",
    "    android_app_popularity.append((category, avg_install))\n",
    "    \n",
    "sorted(android_app_popularity, key = lambda x: x[1], reverse = True)\n"
   ]
  },
  {
   "cell_type": "markdown",
   "metadata": {},
   "source": [
    "Analyzing apps in a few of these categories in the same manner:"
   ]
  },
  {
   "cell_type": "code",
   "execution_count": 22,
   "metadata": {},
   "outputs": [
    {
     "name": "stdout",
     "output_type": "stream",
     "text": [
      "{'Messenger – Text and Video Chat for Free': 1000000000.0, 'WhatsApp Messenger': 1000000000.0, 'Messenger for SMS': 10000000.0, 'Google Chrome: Fast & Secure': 1000000000.0, 'Messenger Lite: Free Calls & Messages': 100000000.0, 'Gmail': 1000000000.0, 'Hangouts': 1000000000.0, 'Viber Messenger': 500000000.0, 'My Tele2': 5000000.0, 'Firefox Browser fast & private': 100000000.0, 'Yahoo Mail – Stay Organized': 100000000.0, 'imo beta free calls and text': 100000000.0, 'imo free video calls and chat': 500000000.0, 'Contacts': 50000000.0, 'Call Free – Free Call': 5000000.0, 'Web Browser & Explorer': 5000000.0, 'Opera Mini - fast web browser': 100000000.0, 'Browser 4G': 10000000.0, 'MegaFon Dashboard': 10000000.0, 'ZenUI Dialer & Contacts': 10000000.0, 'Cricket Visual Voicemail': 10000000.0, 'Opera Browser: Fast and Secure': 100000000.0, 'TracFone My Account': 1000000.0, 'Firefox Focus: The privacy browser': 1000000.0, 'Google Voice': 10000000.0, 'Chrome Dev': 5000000.0, 'Xperia Link™': 10000000.0, 'TouchPal Keyboard - Fun Emoji & Android Keyboard': 10000000.0, 'Who': 100000000.0, 'Skype Lite - Free Video Call & Chat': 5000000.0, 'WeChat': 100000000.0, 'UC Browser Mini -Tiny Fast Private & Secure': 100000000.0, 'WhatsApp Business': 10000000.0, 'My magenta': 1000000.0, 'Android Messages': 100000000.0, 'Telegram': 100000000.0, 'Google Duo - High Quality Video Calls': 500000000.0, 'Puffin Web Browser': 10000000.0, 'Seznam.cz': 1000000.0, 'Antillean Gold Telegram (original version)': 100000.0, 'AT&T Visual Voicemail': 10000000.0, 'GMX Mail': 10000000.0, 'Omlet Chat': 10000000.0, 'UC Browser - Fast Download Private & Secure': 500000000.0, 'My Vodacom SA': 5000000.0, 'Microsoft Edge': 5000000.0, 'Hangouts Dialer - Call Phones': 10000000.0, 'Talkatone: Free Texts, Calls & Phone Number': 10000000.0, 'Calls & Text by Mo+': 5000000.0, 'free video calls and chat': 50000000.0, 'Skype - free IM & video calls': 1000000000.0, 'GO SMS Pro - Messenger, Free Themes, Emoji': 100000000.0, 'Messaging+ SMS, MMS Free': 1000000.0, 'chomp SMS': 10000000.0, 'Glide - Video Chat Messenger': 10000000.0, 'Text SMS': 10000000.0, 'Google Allo': 10000000.0, 'Talkray - Free Calls & Texts': 10000000.0, 'LINE: Free Calls & Messages': 500000000.0, 'GroupMe': 10000000.0, 'mysms SMS Text Messaging Sync': 1000000.0, 'BBM - Free Calls & Messages': 100000000.0, 'KakaoTalk: Free Calls & Text': 100000000.0, '2ndLine - Second Phone Number': 1000000.0, 'CM Browser - Ad Blocker , Fast Download , Privacy': 50000000.0, 'Ninesky Browser': 1000000.0, 'Dolphin Browser - Fast, Private & Adblock🐬': 50000000.0, 'Ghostery Privacy Browser': 1000000.0, 'InBrowser - Incognito Browsing': 1000000.0, 'Web Browser for Android': 1000000.0, 'DU Browser—Browse fast & fun': 10000000.0, 'Lightning Web Browser': 500000.0, 'Web Browser': 500000.0, 'Contacts+': 10000000.0, 'ExDialer - Dialer & Contacts': 10000000.0, 'PHONE for Google Voice & GTalk': 1000000.0, 'Safest Call Blocker': 1000000.0, 'Full Screen Caller ID': 5000000.0, 'Hiya - Caller ID & Block': 10000000.0, 'Mr. Number-Block calls & spam': 10000000.0, 'Should I Answer?': 1000000.0, 'RocketDial Dialer & Contacts': 1000000.0, 'CallApp: Caller ID, Blocker & Phone Call Recorder': 10000000.0, 'Whoscall - Caller ID & Block': 10000000.0, 'CIA - Caller ID & Call Blocker': 5000000.0, 'Calls Blacklist - Call Blocker': 10000000.0, 'Call Control - Call Blocker': 5000000.0, 'True Contact - Real Caller ID': 1000000.0, 'Video Caller Id': 1000000.0, 'Sync.ME – Caller ID & Block': 5000000.0, 'Burner - Free Phone Number': 1000000.0, 'Truecaller: Caller ID, SMS spam blocking & Dialer': 100000000.0, 'Caller ID +': 1000000.0, 'K-9 Mail': 5000000.0, 'myMail – Email for Hotmail, Gmail and Outlook Mail': 10000000.0, 'Email TypeApp - Mail App': 1000000.0, 'All Email Providers': 1000000.0, 'Newton Mail - Email App for Gmail, Outlook, IMAP': 1000000.0, 'GO Notifier': 10000000.0, 'Mail.Ru - Email App': 50000000.0, 'Mail1Click - Secure Mail': 10000.0, 'Daum Mail - Next Mail': 5000000.0, 'mail.com mail': 1000000.0, 'SolMail - All-in-One email app': 500000.0, 'Vonage Mobile® Call Video Text': 1000000.0, 'JusTalk - Free Video Calls and Fun Video Chat': 5000000.0, 'Azar': 50000000.0, 'LokLok: Draw on a Lock Screen': 500000.0, 'Discord - Chat for Gamers': 10000000.0, 'AntennaPict β': 1000000.0, 'Kik': 100000000.0, 'K-@ Mail - Email App': 100000.0, 'K-9 Material (unofficial)': 5000.0, 'M star Dialer': 100000.0, 'Free WiFi Connect': 10000000.0, 'm:go BiH': 10000.0, 'N-Com Wizard': 50000.0, 'Opera Mini browser beta': 10000000.0, 'Psiphon Pro - The Internet Freedom VPN': 10000000.0, 'ICQ — Video Calls & Chat Messenger': 10000000.0, 'AT&T Messages for Tablet': 1000000.0, 'T-Mobile DIGITS': 100000.0, 'Portable Wi-Fi hotspot': 10000000.0, 'AT&T Call Protect': 5000000.0, 'U - Webinars, Meetings & Messenger': 500000.0, '/u/app': 10000.0, '[verify-U] VideoIdent': 10000.0, 'WhatsCall Free Global Phone Call App & Cheap Calls': 10000000.0, 'X Browser': 50000.0, 'Free Adblocker Browser - Adblock & Popup Blocker': 10000000.0, 'Adblock Browser for Android': 10000000.0, 'Adblock Plus for Samsung Internet - Browse safe.': 1000000.0, 'Ad Blocker Turbo - Adblocker Browser': 10000.0, 'Brave Browser: Fast AdBlocker': 5000000.0, 'AG Contacts, Lite edition': 5000.0, 'Oklahoma Ag Co-op Council': 10.0, \"Bee'ah Employee App\": 100.0, 'tournaments and more.aj.2': 100.0, 'Aj.Petra': 100.0, 'AK Phone': 5000.0, 'PlacarTv Futebol Ao Vivo': 100000.0, 'WiFi Access Point (hotspot)': 100000.0, 'Access Point Names': 10000.0, 'ClanHQ': 10000.0, 'Ear Agent: Super Hearing': 5000000.0, 'AU Call Blocker - Block Unwanted Calls Texts 2018': 1000.0, 'Baby Monitor AV': 100000.0, 'AV Phone': 1000.0, 'AW - free video calls and chat': 1000000.0, 'Katalogen.ax': 100.0, 'AZ Browser. Private & Download': 100000.0, 'BA SALES': 1.0, 'BD Data Plan (3G & 4G)': 500000.0, 'BD Internet Packages (Updated)': 50000.0, 'BD Dialer': 10000.0, 'BD Live Call': 5000.0, 'Best Browser BD social networking': 10.0, 'Traffic signs BD': 500.0, 'BF Browser by Betfilter - Stop Gambling Today!': 10000.0, 'My BF App': 50000.0, 'BH Mail': 1000.0, 'Zalo – Video Call': 50000000.0, 'BJ - Confidential': 10.0, 'BK Chat': 1000.0, 'Of the wall Arapaho bk': 5.0, 'AC-BL': 50.0, 'DMR BrandMeister Tool': 10000.0, 'BBMoji - Your personalized BBM Stickers': 1000000.0, 'BN MALLORCA Radio': 1000.0, 'BQ Partners': 1000.0, 'BS-Mobile': 50.0, 'ATC Unico BS': 500.0, 'BT One Voice mobile access': 5000.0, 'BT Messenger': 50000.0, 'BT One Phone Mobile App': 10000.0, 'SW-100.tch by Callstel': 1000000.0, 'BT MeetMe with Dolby Voice': 100000.0, 'Bluetooth Auto Connect': 5000000.0, 'AudioBT: BT audio GPS/SMS/Text': 50000.0, 'BV': 100.0, 'Feel Performer': 10000.0, 'Tiny Call Confirm': 1000000.0, 'CB Radio Chat - for friends!': 1000000.0, 'CB On Mobile': 100000.0, 'Virtual Walkie Talkie': 1000000.0, 'Channel 19': 100000.0, 'Cb browser': 50.0, 'CF Chat: Connecting Friends': 100.0, 'retteMi.ch': 5000.0, 'CJ Browser - Fast & Private': 100.0, 'CJ DVD Rentals': 100.0, 'CK Call NEW': 10.0, 'CM Transfer - Share any files with friends nearby': 5000000.0, 'mail.co.uk Mail': 5000.0, 'ClanPlay: Community and Tools for Gamers': 1000000.0, 'CQ-Mobile': 1000.0, 'CQ-Alert': 500.0, 'QRZ Assistant': 100000.0, 'Pocket Prefix Plus': 10000.0, 'Ham Radio Prefixes': 10000.0, 'CS Customizer': 1000.0, 'CS Browser | #1 & BEST BROWSER': 1000.0, 'CS Browser Beta': 5000.0, 'My Vodafone (GR)': 1000000.0, 'IZ2UUF Morse Koch CW': 50000.0, 'C W Browser': 100.0, 'CW Bluetooth SPP': 100.0, 'CW BLE Peripheral Simulator': 500.0, 'Morse Code Reader': 100000.0, 'Learn Morse Code - G0HYN Learn Morse': 5000.0, 'Ring': 10000.0, 'Hyundai CX Conference': 50.0, 'Cy Messenger': 100.0, 'Amadeus GR & CY': 100.0, 'Hlášenírozhlasu.cz': 10.0, 'SMS Sender - sluzba.cz': 1000.0, 'WEB.DE Mail': 10000000.0, 'Your Freedom VPN Client': 5000000.0, 'Rádio Sol Nascente DF': 500.0, 'DG Card': 100.0, 'DK Browser': 10.0, 'cluster.dk': 1000.0, 'DK TEL Dialer': 50.0, 'DM for WhatsApp': 5000.0, 'DM Talk New': 5000.0, 'DM - The Offical Messaging App': 10.0, 'DM Tracker': 1000.0, 'Call Blocker & Blacklist': 1000.0, 'ReadyOp DT': 1000.0, 'Caller ID & Call Block - DU Caller': 5000000.0, 'BlueDV AMBE': 1000.0, 'DW Contacts & Phone & Dialer': 1000000.0, 'Deaf World DW': 10000.0, 'Ham DX Cluster & Spots Finder': 5000.0, 'Mircules DX Cluster Lite': 5000.0, '3G DZ Configuration': 50000.0, 'chat dz': 100.0, 'love sms good morning': 5000.0, 'Goodbox - Mega App': 100000.0, 'Call Blocker - Blacklist, SMS Blocker': 1000000.0, '[EF]ShoutBox': 100.0, 'Eg Call': 10000.0, 'ei': 10.0, 'EJ messenger': 10.0, 'Ek IRA': 10.0, 'Orfox: Tor Browser for Android': 10000000.0, 'EO Mumbai': 10.0, 'EP RSS Reader': 100.0, 'Voxer Walkie Talkie Messenger': 10000000.0, 'ES-1': 500.0, 'EU Council': 1000.0, 'Council Voting Calculator': 5000.0, 'Have your say on Europe': 500.0, 'Programi podrške EU': 100.0, 'Inbox.eu': 10000.0, 'Everbridge': 100000.0, 'Best Auto Call Recorder Free': 500.0, 'EZ Wifi Notification': 10000.0, 'Test Server SMS FA': 5.0, 'Lite for Facebook Messenger': 1000000.0, 'FC Browser - Focus Privacy Browser': 1000.0, 'EHiN-FH conferenceapp': 100.0, 'Carpooling FH Hagenberg': 100.0, 'Wi-Fi Auto-connect': 1000000.0, 'Talkie - Wi-Fi Calling, Chats, File Sharing': 500000.0, 'WeFi - Free Fast WiFi Connect & Find Wi-Fi Map': 1000000.0, 'Sat-Fi': 5000.0, 'Portable Wi-Fi hotspot Free': 100000.0, 'TownWiFi | Wi-Fi Everywhere': 500000.0, 'Jazz Wi-Fi': 10000.0, 'Sat-Fi Voice': 1000.0, 'Free Wi-fi HotspoT': 50000.0, 'FN Web Radio': 10.0, 'FNH Payment Info': 10.0, 'MARKET FO': 100.0, 'FO OP St-Nazaire': 100.0, 'FO SODEXO': 100.0, 'FO RCBT': 100.0, 'FO Interim': 100.0, 'FO PSA Sept-Fons': 100.0, 'FO AIRBUS TLSE': 1000.0, 'FO STELIA Méaulte': 100.0, 'FO AIRBUS Nantes': 100.0, 'FP Connect': 100.0, 'FreedomPop Messaging Phone/SIM': 500000.0, 'FP Live': 10.0, 'HipChat - beta version': 50000.0}\n",
      "\n",
      "\n",
      "{'Netflix': 100000000.0, 'Complete Spanish Movies': 1000000.0, 'Pluto TV - It’s Free TV': 1000000.0, 'Tubi TV - Free Movies & TV': 10000000.0, 'YouTube Kids': 50000000.0, 'Mobile TV': 10000000.0, 'TV+': 5000000.0, 'Digital TV': 5000000.0, 'Motorola Spotlight Player™': 10000000.0, 'Vigo Lite': 5000000.0, 'Google Play Games': 1000000000.0, 'Hotstar': 100000000.0, 'Peers.TV: broadcast TV channels First, Match TV, TNT ...': 5000000.0, 'The green alien dance': 1000000.0, 'Spectrum TV': 5000000.0, 'H TV': 5000000.0, 'StarTimes - Live International Champions Cup': 1000000.0, 'Cinematic Cinematic': 1000000.0, 'MEGOGO - Cinema and TV': 10000000.0, 'Talking Angela': 100000000.0, 'DStv Now': 5000000.0, 'ivi - movies and TV shows in HD': 10000000.0, 'Radio Javan': 1000000.0, 'Viki: Asian TV Dramas & Movies': 10000000.0, 'Talking Ginger 2': 50000000.0, 'Girly Lock Screen Wallpaper with Quotes': 5000000.0, 'No.Draw - Colors by Number 2018': 10000000.0, '🔥 Football Wallpapers 4K | Full HD Backgrounds 😍': 1000000.0, 'Movies by Flixster, with Rotten Tomatoes': 10000000.0, 'Low Poly – Puzzle art game': 1000000.0, 'BBC Media Player': 10000000.0, 'Amazon Prime Video': 50000000.0, 'Adult Glitter Color by Number Book - Sandbox Pages': 1000000.0, 'IMDb Movies & TV': 100000000.0, 'Twitch: Livestream Multiplayer Games & Esports': 50000000.0, 'Ziggo GO': 1000000.0, 'YouTube Gaming': 5000000.0, 'PlayStation App': 50000000.0, 'Talking Ben the Dog': 100000000.0, 'Red Bull TV: Live Sports, Music & Entertainment': 1000000.0, 'Trailer Addict Movie Trailers': 100000.0, 'Cinemark Theatres': 1000000.0, 'Regal Cinemas': 1000000.0, 'Fandango Movies - Times + Tickets': 10000000.0, 'Marcus Theatres': 100000.0, 'Harkins Theatres': 100000.0, 'AMC Theatres': 1000000.0, 'Food Network': 500000.0, 'Cooking Channel': 100000.0, 'Animal Planet GO': 100000.0, 'VRV: Anime, game videos & more': 1000000.0, 'DramaFever: Stream Asian Drama Shows & Movies': 1000000.0, 'Crunchyroll - Everything Anime': 10000000.0, 'Investigation Discovery GO': 1000000.0, 'Crackle - Free TV & Movies': 10000000.0, 'CBS - Full Episodes & Live TV': 10000000.0, 'STARZ': 10000000.0, 'Acorn TV: World-class TV from Britain and Beyond': 50000.0, 'HISTORY: Watch TV Show Full Episodes & Specials': 1000000.0, 'Nick': 10000000.0, 'VH1': 1000000.0, 'FOX NOW - On Demand & Live TV': 5000000.0, 'A&E - Watch Full Episodes of TV Shows': 1000000.0, 'The CW': 5000000.0, 'BET NOW - Watch Shows': 1000000.0, 'Hulu: Stream TV, Movies & more': 10000000.0, 'HBO NOW: Stream TV & Movies': 10000000.0, 'Univision NOW - Live TV and On Demand': 1000000.0, 'SHOWTIME': 1000000.0, 'Lifetime - Watch Full Episodes & Original Movies': 1000000.0, 'SeriesGuide – Show & Movie Manager': 1000000.0, 'Comedy Central': 1000000.0, 'CW Seed': 500000.0, 'The NBC App - Watch Live TV and Full Episodes': 5000000.0, 'WWE': 10000000.0, 'Universal Kids': 500000.0, 'MTV': 1000000.0, 'LEGO® TV': 1000000.0, 'HBO GO: Stream with TV Package': 10000000.0, 'Showtime Anytime': 1000000.0, 'PlayKids - Educational cartoons and games for kids': 10000000.0, 'FOX': 10000000.0, 'Telemundo Now': 1000000.0, 'Vudu Movies & TV': 10000000.0, 'Yidio: TV Show & Movie Guide': 1000000.0, 'Redbox': 10000000.0, 'Tribeca Shortlist - Handpicked Movies': 100000.0, 'Nick Jr. - Shows & Games': 1000000.0, 'Sticker Market: Emoji keyboard': 10000.0, 'Kidjo TV Kids Have Fun & Learn': 100000.0, 'Laugh Out Loud by Kevin Hart': 100000.0, 'ColorFul - Adult Coloring Book': 5000000.0, 'Hamilton — The Official App': 100000.0, 'Funny Pics': 1000000.0, 'Funny Quotes Free': 1000000.0, 'LOL Pics (Funny Pictures)': 1000000.0, 'Meme Creator': 1000000.0, 'Imgur: Find funny GIFs, memes & watch viral videos': 10000000.0, 'SketchBook - draw and paint': 10000000.0, 'Colorfy: Coloring Book for Adults - Free': 10000000.0}\n",
      "\n",
      "\n",
      "{'Wattpad 📖 Free Books': 100000000.0, 'E-Book Read - Read Book for free': 50000.0, 'Download free book with green book': 100000.0, 'Wikipedia': 10000000.0, 'Amazon Kindle': 100000000.0, 'Cool Reader': 10000000.0, 'Dictionary - Merriam-Webster': 10000000.0, 'NOOK: Read eBooks & Magazines': 10000000.0, 'Free Panda Radio Music': 100000.0, 'Book store': 1000000.0, 'FBReader: Favorite Book Reader': 10000000.0, 'English Grammar Complete Handbook': 500000.0, 'Free Books - Spirit Fanfiction and Stories': 1000000.0, 'Google Play Books': 1000000000.0, 'AlReader -any text book reader': 5000000.0, 'Offline English Dictionary': 100000.0, 'Oxford Dictionary of English : Free': 10000000.0, 'Offline: English to Tagalog Dictionary': 500000.0, 'Spanish English Translator': 10000000.0, 'FamilySearch Tree': 1000000.0, 'Cloud of Books': 1000000.0, 'Recipes of Prophetic Medicine for free': 500000.0, 'ReadEra – free ebook reader': 1000000.0, 'NOOK App for NOOK Devices': 500000.0, 'Anonymous caller detection': 10000.0, 'Ebook Reader': 5000000.0, 'Litnet - E-books': 100000.0, 'Read books online': 5000000.0, 'English to Urdu Dictionary': 500000.0, 'eBoox: book reader fb2 epub zip': 1000000.0, 'English Persian Dictionary': 500000.0, 'Flybook': 500000.0, 'All Maths Formulas': 1000000.0, 'Ancestry': 5000000.0, 'HTC Help': 10000000.0, 'English translation from Bengali': 100000.0, 'Pdf Book Download - Read Pdf Book': 100000.0, 'Free Book Reader': 100000.0, 'eBoox new: Reader for fb2 epub zip books': 50000.0, 'Only 30 days in English, the guideline is guaranteed': 500000.0, 'Moon+ Reader': 10000000.0, \"SH-02J Owner's Manual (Android 8.0)\": 50000.0, 'English-Myanmar Dictionary': 1000000.0, 'Golden Dictionary (EN-AR)': 1000000.0, 'All Language Translator Free': 1000000.0, 'Azpen eReader': 500000.0, 'URBANO V 02 instruction manual': 100000.0, 'English Dictionary - Offline': 10000000.0, 'Bible': 100000000.0, 'C Programs and Reference': 50000.0, 'C Offline Tutorial': 1000.0, 'C Programs Handbook': 50000.0, 'Aab e Hayat Full Novel': 100000.0, 'Aldiko Book Reader': 10000000.0, 'Google I/O 2018': 500000.0, 'R Language Reference Guide': 10000.0, 'Learn R Programming Full': 5000.0, 'R Programing Offline Tutorial': 1000.0, 'Guide for R Programming': 5.0, 'Learn R Programming': 10.0, 'R Quick Reference Big Data': 1000.0, 'V Made': 100000.0, 'Dictionary - WordWeb': 5000000.0, 'Guide (for X-MEN)': 100000.0, 'AC Air condition Troubleshoot,Repair,Maintenance': 5000.0, 'AE Bulletins': 1000.0, 'Ae Allah na Dai (Rasa)': 10000.0, '50000 Free eBooks & Free AudioBooks': 5000000.0, 'Ag PhD Field Guide': 10000.0, 'Ag PhD Deficiencies': 10000.0, 'Ag PhD Planting Population Calculator': 1000.0, 'Ag PhD Soybean Diseases': 1000.0, 'Fertilizer Removal By Crop': 50000.0, 'A-J Media Vault': 50.0, 'Al-Quran (Free)': 10000000.0, 'Al Quran (Tafsir & by Word)': 500000.0, 'Al Quran Indonesia': 10000000.0, \"Al'Quran Bahasa Indonesia\": 10000000.0, 'Al Quran Al karim': 1000000.0, 'Al-Muhaffiz': 50000.0, 'Al Quran : EAlim - Translations & MP3 Offline': 5000000.0, 'Al-Quran 30 Juz free copies': 500000.0, 'Koran Read &MP3 30 Juz Offline': 1000000.0, 'Hafizi Quran 15 lines per page': 1000000.0, 'Quran for Android': 10000000.0, 'Surah Al-Waqiah': 100000.0, 'Hisnul Al Muslim - Hisn Invocations & Adhkaar': 100000.0, 'Satellite AR': 1000000.0, 'Audiobooks from Audible': 100000000.0, \"Kinot & Eichah for Tisha B'Av\": 10000.0, 'AW Tozer Devotionals - Daily': 5000.0, 'Tozer Devotional -Series 1': 1000.0, 'The Pursuit of God': 1000.0, 'AY Sing': 5000.0, 'Ay Hasnain k Nana Milad Naat': 10000.0, 'Ay Mohabbat Teri Khatir Novel': 10000.0, 'Arizona Statutes, ARS (AZ Law)': 1000.0, 'Oxford A-Z of English Usage': 1000000.0, 'BD Fishpedia': 1000.0, 'BD All Sim Offer': 10000.0, 'Youboox - Livres, BD et magazines': 500000.0, 'B&H Kids AR': 10000.0, 'B y H Niños ES': 5000.0, 'Dictionary.com: Find Definitions for English Words': 10000000.0, 'Bible KJV': 5000000.0, 'Borneo Bible, BM Bible': 10000.0, 'MOD Black for BM': 100.0, 'BM Box': 1000.0, 'Anime Mod for BM': 100.0, 'NOOK Audiobooks': 500000.0, 'Browsery by Barnes & Noble': 5000.0, 'bp e-store': 1000.0, 'Brilliant Quotes: Life, Love, Family & Motivation': 1000000.0, 'BR Ambedkar Biography & Quotes': 10000.0, 'BU Alsace': 100.0, 'Catholic La Bu Zo Kam': 500.0, 'Khrifa Hla Bu (Solfa)': 10.0, 'Kristian Hla Bu': 10000.0, 'SA HLA BU': 1000.0, 'Learn SAP BW': 500.0, 'Learn SAP BW on HANA': 500.0, 'CA Laws 2018 (California Laws and Codes)': 5000.0, 'Bootable Methods(USB-CD-DVD)': 10000.0, 'cloudLibrary': 100000.0, 'SDA Collegiate Quarterly': 500.0, 'Sabbath School': 100000.0, 'Cypress College Library': 100.0, 'Stats Royale for Clash Royale': 1000000.0, 'GATE 21 years CS Papers(2011-2018 Solved)': 50.0, 'Learn CT Scan Of Head': 5000.0, 'Easy Cv maker 2018': 10000.0, 'How to Write CV': 100000.0, 'CW Nuclear': 1000.0, 'CY Spray nozzle': 10.0, 'BibleRead En Cy Zh Yue': 5.0, 'CZ-Help': 5.0, 'Modlitební knížka CZ': 500.0, 'Guide for DB Xenoverse': 10000.0, 'Guide for DB Xenoverse 2': 10000.0, 'Guide for IMS DB': 10.0, 'DC HSEMA': 5000.0, 'DC Public Library': 1000.0, 'Painting Lulu DC Super Friends': 1000.0, 'Dictionary': 10000000.0, 'Fix Error Google Playstore': 1000.0, 'D. H. Lawrence Poems FREE': 1000.0, 'Bilingual Dictionary Audio App': 5000.0, 'DM Screen': 10000.0, 'wikiHow: how to do anything': 1000000.0, \"Dr. Doug's Tips\": 1000.0, 'Bible du Semeur-BDS (French)': 50000.0, 'La citadelle du musulman': 50000.0, 'DV 2019 Entry Guide': 10000.0, 'DV 2019 - EDV Photo & Form': 50000.0, 'DV 2018 Winners Guide': 1000.0, 'EB Annual Meetings': 1000.0, 'EC - AP & Telangana': 5000.0, 'TN Patta Citta & EC': 10000.0, 'AP Stamps and Registration': 10000.0, 'CompactiMa EC pH Calibration': 100.0, 'EGW Writings 2': 100000.0, 'EGW Writings': 1000000.0, 'Bible with EGW Comments': 100000.0, 'My Little Pony AR Guide': 1000000.0, 'SDA Sabbath School Quarterly': 500000.0, 'Duaa Ek Ibaadat': 5000.0, 'JW Library': 10000000.0, 'English Hindi Dictionary': 10000000.0, 'English to Hindi Dictionary': 5000000.0, 'EP Research Service': 1000.0, 'Hymnes et Louanges': 100000.0, 'EU Charter': 1000.0, 'EU Data Protection': 1000.0, 'EU IP Codes': 100.0, 'EW PDF': 5.0, 'BakaReader EX': 100000.0, 'EZ Quran': 50000.0, 'FA Part 1 & 2 Past Papers Solved Free – Offline': 5000.0, 'La Fe de Jesus': 1000.0, 'La Fe de Jesús': 500.0, 'Le Fe de Jesus': 500.0, 'Florida - Pocket Brainbook': 1000.0, 'Florida Statutes (FL Code)': 1000.0, 'English To Shona Dictionary': 10000.0, 'Greek Bible FP (Audio)': 1000.0, 'Golden Dictionary (FR-AR)': 500000.0, 'Fanfic-FR': 5000.0, 'Bulgarian French Dictionary Fr': 10000.0, 'Chemin (fr)': 1000.0, 'The SCP Foundation DB fr nn5n': 1000.0}\n"
     ]
    }
   ],
   "source": [
    "comm_dict = {}\n",
    "\n",
    "for row in android:\n",
    "    if row[1] == 'COMMUNICATION':\n",
    "        comm_dict[row[0]] = float(row[5].replace('+', '').replace(',',''))\n",
    " \n",
    "entertainment_dict = {}\n",
    "\n",
    "for row in android:\n",
    "    if row[1] == 'ENTERTAINMENT':\n",
    "        entertainment_dict[row[0]] = float(row[5].replace('+', '').replace(',',''))\n",
    "        \n",
    "books_dict = {}\n",
    "\n",
    "for row in android:\n",
    "    if row[1] == 'BOOKS_AND_REFERENCE':\n",
    "        books_dict[row[0]] = float(row[5].replace('+', '').replace(',',''))\n",
    "    \n",
    "print(comm_dict)\n",
    "print('\\n')\n",
    "print(entertainment_dict)\n",
    "print('\\n')\n",
    "print(books_dict)\n"
   ]
  },
  {
   "cell_type": "markdown",
   "metadata": {},
   "source": [
    "Perhaps there is some room for new entertainment apps, as there is a very wide range of possibilities and a wide range of interests. We could find a niche here. "
   ]
  },
  {
   "cell_type": "markdown",
   "metadata": {},
   "source": [
    "Books and References are also popular in Apple apps. This could be our starting point. Is there a market for a reference guide on a specific topic that has not yet been saturated with alternatives?"
   ]
  },
  {
   "cell_type": "markdown",
   "metadata": {},
   "source": [
    "## 4. Conclusion\n",
    "\n",
    "We have cleaned data about apps in both the Android and Apple Stores, analyzed that data to identify which app categories are most popular for users, and dug a bit deeper to examine which categories are already dominated by a few key players, and which may present some opportunities for us to create a unique app filling a need for a specific audience or covering a specific topic. "
   ]
  }
 ],
 "metadata": {
  "kernelspec": {
   "display_name": "Python 3",
   "language": "python",
   "name": "python3"
  },
  "language_info": {
   "codemirror_mode": {
    "name": "ipython",
    "version": 3
   },
   "file_extension": ".py",
   "mimetype": "text/x-python",
   "name": "python",
   "nbconvert_exporter": "python",
   "pygments_lexer": "ipython3",
   "version": "3.8.2"
  }
 },
 "nbformat": 4,
 "nbformat_minor": 2
}
